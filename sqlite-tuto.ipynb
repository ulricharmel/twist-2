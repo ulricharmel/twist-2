{
 "cells": [
  {
   "cell_type": "code",
   "execution_count": null,
   "id": "f9c99cdf",
   "metadata": {},
   "outputs": [],
   "source": [
    "import sqlite3\n",
    "from sqlite3 import Error"
   ]
  },
  {
   "cell_type": "code",
   "execution_count": null,
   "id": "b391644a",
   "metadata": {},
   "outputs": [],
   "source": [
    "con = sqlite3.connect('mydatabase.db')"
   ]
  },
  {
   "cell_type": "code",
   "execution_count": null,
   "id": "ba27ac39",
   "metadata": {},
   "outputs": [],
   "source": [
    "cursorObj = con.cursor()"
   ]
  },
  {
   "cell_type": "code",
   "execution_count": null,
   "id": "4bbfa1b9",
   "metadata": {},
   "outputs": [],
   "source": [
    "def sql_connection():\n",
    "\n",
    "    try:\n",
    "\n",
    "        con = sqlite3.connect(':memory:')\n",
    "\n",
    "        print(\"Connection is established: Database is created in memory\")\n",
    "\n",
    "    except Error:\n",
    "\n",
    "        print(Error)\n",
    "\n",
    "    finally:\n",
    "\n",
    "        con.close()\n",
    "\n",
    "sql_connection()"
   ]
  },
  {
   "cell_type": "code",
   "execution_count": null,
   "id": "e1da8fbc",
   "metadata": {},
   "outputs": [],
   "source": [
    "def sql_connection():\n",
    "\n",
    "    try:\n",
    "\n",
    "        con = sqlite3.connect('mydatabase.db')\n",
    "\n",
    "        return con\n",
    "\n",
    "    except Error:\n",
    "\n",
    "        print(Error)\n",
    "\n",
    "def sql_table(con):\n",
    "\n",
    "    cursorObj = con.cursor()\n",
    "\n",
    "    cursorObj.execute(\"CREATE TABLE employees(id integer PRIMARY KEY, name text, salary real, department text, position text, hireDate text)\")\n",
    "\n",
    "    con.commit()\n",
    "\n",
    "con = sql_connection()\n",
    "\n",
    "sql_table(con)"
   ]
  },
  {
   "cell_type": "code",
   "execution_count": null,
   "id": "1a8694ee",
   "metadata": {},
   "outputs": [],
   "source": [
    "cursorObj.execute(\"INSERT INTO employees VALUES(1, 'John', 700, 'HR', 'Manager', '2017-01-04')\")\n",
    "\n",
    "con.commit()"
   ]
  },
  {
   "cell_type": "code",
   "execution_count": null,
   "id": "a8dc1687",
   "metadata": {},
   "outputs": [],
   "source": [
    "!ls bank-additional/bank-additional"
   ]
  },
  {
   "cell_type": "code",
   "execution_count": null,
   "id": "477826c4",
   "metadata": {},
   "outputs": [],
   "source": [
    "import pandas as pd\n",
    "import matplotlib.pyplot as plt\n",
    "import numpy as np"
   ]
  },
  {
   "cell_type": "code",
   "execution_count": null,
   "id": "313b3eed",
   "metadata": {},
   "outputs": [],
   "source": [
    "def create_db(db_name):\n",
    "    from pathlib import Path\n",
    "    Path(db_name).touch()\n",
    "    \n",
    "def establish_db_connection(db_name):\n",
    "    connection = sqlite3.connect(db_name)\n",
    "    return connection\n",
    "\n",
    "def create_and_populate_table(csv_file, connection, db_name, colnames, table=\"data\"):\n",
    "    c = connection.cursor()\n",
    "#   c.execute(f'''DROP TABLE IF EXISTS {table}''')\n",
    "    c.execute(f'''CREATE TABLE {table} {colnames}''')\n",
    "    csv_file.to_sql(table, connection, if_exists='append', index = False)\n",
    "    c.close()"
   ]
  },
  {
   "cell_type": "code",
   "execution_count": null,
   "id": "73b406c6",
   "metadata": {},
   "outputs": [],
   "source": [
    "df = pd.read_csv(\"bank-additional/bank-additional-full.csv\", sep=\";\")"
   ]
  },
  {
   "cell_type": "code",
   "execution_count": null,
   "id": "9ffb8828",
   "metadata": {},
   "outputs": [],
   "source": [
    "db_name = 'data.db'\n",
    "colnames = tuple(df.columns)\n",
    "\n",
    "create_db(db_name)\n",
    "connection = establish_db_connection(db_name)\n",
    "create_and_populate_table(df, connection, db_name, colnames)"
   ]
  },
  {
   "cell_type": "code",
   "execution_count": null,
   "id": "49db355d",
   "metadata": {},
   "outputs": [],
   "source": [
    "pd.read_sql('''SELECT age, duration, campaign, pdays\n",
    "                      FROM data WHERE age > 20''',connection)"
   ]
  },
  {
   "cell_type": "code",
   "execution_count": null,
   "id": "3059ec3c",
   "metadata": {},
   "outputs": [],
   "source": [
    "np.random.randint(41188)"
   ]
  },
  {
   "cell_type": "markdown",
   "id": "88d6f8ae",
   "metadata": {},
   "source": [
    "### Do some LGBM here"
   ]
  },
  {
   "cell_type": "code",
   "execution_count": null,
   "id": "758d0ffa",
   "metadata": {},
   "outputs": [],
   "source": [
    "import lightgbm as lgb"
   ]
  },
  {
   "cell_type": "code",
   "execution_count": null,
   "id": "c1a6fcb2",
   "metadata": {},
   "outputs": [],
   "source": [
    "data = pd.read_sql('''SELECT * FROM data''',connection)"
   ]
  },
  {
   "cell_type": "code",
   "execution_count": null,
   "id": "82c81e1d",
   "metadata": {},
   "outputs": [],
   "source": [
    "obj_feat = list(data.loc[:, data.dtypes == 'object'].columns.values)\n",
    "obj_feat"
   ]
  },
  {
   "cell_type": "code",
   "execution_count": null,
   "id": "d6c6cf24",
   "metadata": {},
   "outputs": [],
   "source": [
    "data.head()"
   ]
  },
  {
   "cell_type": "code",
   "execution_count": null,
   "id": "38d88d52",
   "metadata": {},
   "outputs": [],
   "source": [
    "for feature in obj_feat:\n",
    "    data[feature] = pd.Series(data[feature], dtype=\"category\")"
   ]
  },
  {
   "cell_type": "code",
   "execution_count": null,
   "id": "049d5b3b",
   "metadata": {},
   "outputs": [],
   "source": [
    "def train_validate_test_split(df, train_percent=.8, validate_percent=.2, seed=None, \n",
    "                              target=\"cons.conf.idx\", categorical=None):\n",
    "    \n",
    "    np.random.seed(seed)\n",
    "    perm = np.random.permutation(df.index)\n",
    "    m = len(df.index)\n",
    "    train_end = int(train_percent * m)\n",
    "    train = df.iloc[perm[:train_end]]\n",
    "    validate = df.iloc[perm[train_end:]]\n",
    "    \n",
    "    y_train = train[target]\n",
    "    y_test = validate[target]\n",
    "    \n",
    "    train.drop([target]+categorical, axis=1, inplace=True)\n",
    "    validate.drop([target]+categorical, axis=1, inplace=True)\n",
    "    \n",
    "    return train, y_train, validate, y_test"
   ]
  },
  {
   "cell_type": "code",
   "execution_count": null,
   "id": "ae76f9e2",
   "metadata": {},
   "outputs": [],
   "source": [
    "X_train, y_train, X_test, y_test = train_validate_test_split(data, categorical=obj_feat)"
   ]
  },
  {
   "cell_type": "code",
   "execution_count": null,
   "id": "38001831",
   "metadata": {},
   "outputs": [],
   "source": [
    "X_train.columns"
   ]
  },
  {
   "cell_type": "code",
   "execution_count": null,
   "id": "dede9f28",
   "metadata": {},
   "outputs": [],
   "source": [
    "hyper_params = {\n",
    "    'task': 'train',\n",
    "    'boosting_type': 'gbdt',\n",
    "    'objective': 'regression',\n",
    "    'metric': ['l2', 'mse'],\n",
    "    'learning_rate': 0.005,\n",
    "    \"num_leaves\": 20,  \n",
    "    \"max_bin\": 128,\n",
    "}\n",
    "lgb_train = lgb.Dataset(X_train, y_train)\n",
    "gbm = lgb.train(hyper_params, lgb_train, num_boost_round=10)"
   ]
  },
  {
   "cell_type": "code",
   "execution_count": null,
   "id": "5723dbc6",
   "metadata": {},
   "outputs": [],
   "source": [
    "import xgboost as xgb\n",
    "from sklearn.metrics import mean_squared_error\n",
    "\n",
    "dtrain = xgb.DMatrix(data=X_train, label=y_train, enable_categorical=True)\n",
    "dval = xgb.DMatrix(data=X_test, label=y_test, enable_categorical=True)\n",
    "# dtest = xgb.DMatrix(data=xtest)\n",
    "\n",
    "params = dict(objective ='reg:linear', colsample_bytree = 0.2, learning_rate = 0.1,\n",
    "            max_depth = 3, alpha = 10, n_estimators = 10, eval_metric='rmse', verbosity=2)\n",
    "\n",
    "num_round = 50\n",
    "bst = xgb.train(params, dtrain, num_round, evals=[(dtrain, 'dtrain'), (dval, 'dval')])\n"
   ]
  },
  {
   "cell_type": "code",
   "execution_count": null,
   "id": "562625b4",
   "metadata": {},
   "outputs": [],
   "source": [
    "# training\n",
    "model = xgb.XGBRegressor(colsample_bytree = 0.2, learning_rate = 0.1,\n",
    "            max_depth = 3, alpha = 10, n_estimators = 10, eval_metric='rmse', verbosity=2)\n",
    "\n",
    "model.fit(X_train, y_train, \n",
    "          eval_set=[(X_train, y_train), (X_test, y_test)], \n",
    "          early_stopping_rounds=200)"
   ]
  },
  {
   "cell_type": "code",
   "execution_count": null,
   "id": "514da28c",
   "metadata": {},
   "outputs": [],
   "source": [
    "# training\n",
    "# save to JSON\n",
    "model.save_model(\"model.json\")"
   ]
  },
  {
   "cell_type": "code",
   "execution_count": null,
   "id": "909c15bd",
   "metadata": {},
   "outputs": [],
   "source": [
    "# load the model\n",
    "model2 = xgb.XGBRegressor()\n",
    "model2.load_model(\"model.json\")"
   ]
  },
  {
   "cell_type": "code",
   "execution_count": null,
   "id": "5df99c58",
   "metadata": {},
   "outputs": [],
   "source": [
    "model2.predict(X_test)"
   ]
  },
  {
   "cell_type": "markdown",
   "id": "44dae2e2",
   "metadata": {},
   "source": [
    "### creating a databse with many tables"
   ]
  },
  {
   "cell_type": "code",
   "execution_count": 1,
   "id": "5f23d7a6",
   "metadata": {},
   "outputs": [],
   "source": [
    "!rm -rf \"db/multi_table.db\"\n",
    "\n",
    "import sqlite3\n",
    "from sqlite3 import Error"
   ]
  },
  {
   "cell_type": "code",
   "execution_count": 2,
   "id": "0424e009",
   "metadata": {},
   "outputs": [],
   "source": [
    "import pandas as pd\n",
    "import matplotlib.pyplot as plt\n",
    "import numpy as np"
   ]
  },
  {
   "cell_type": "code",
   "execution_count": 3,
   "id": "b55886f3",
   "metadata": {},
   "outputs": [],
   "source": [
    "def create_db(db_name):\n",
    "    from pathlib import Path\n",
    "    Path(db_name).touch()\n",
    "    \n",
    "def establish_db_connection(db_name):\n",
    "    connection = sqlite3.connect(db_name)\n",
    "    return connection\n",
    "\n",
    "def create_and_populate_table(csv_file, connection, db_name, colnames, table=\"data\"):\n",
    "    c = connection.cursor()\n",
    "#     c.execute(f'''DROP TABLE IF EXISTS {table}''')\n",
    "    try:\n",
    "        c.execute(f'''CREATE TABLE {table} {colnames}''')\n",
    "    except Exception as e:\n",
    "        print(e)\n",
    "    csv_file.to_sql(table, connection, if_exists='append', index = False)\n",
    "    c.close()"
   ]
  },
  {
   "cell_type": "code",
   "execution_count": 4,
   "id": "86ab205b",
   "metadata": {},
   "outputs": [],
   "source": [
    "db_name = \"db/multi_table.db\"\n",
    "conn = sqlite3.connect(db_name)\n",
    "c = conn.cursor()"
   ]
  },
  {
   "cell_type": "code",
   "execution_count": 5,
   "id": "f3dc7333",
   "metadata": {},
   "outputs": [
    {
     "name": "stdout",
     "output_type": "stream",
     "text": [
      "measure1_smartphone_sens.csv  measure2_phone_sens.csv\t    PointsMapping.ods\r\n",
      "measure1_smartphone_wifi.csv  measure2_smartphone_wifi.csv  README\r\n",
      "measure1_smartwatch_sens.csv  measure2_timestamp_id.csv\r\n",
      "measure1_timestamp_id.csv     measure2_watch_sens.csv\r\n"
     ]
    }
   ],
   "source": [
    "!ls Ipin2016Dataset/"
   ]
  },
  {
   "cell_type": "code",
   "execution_count": 6,
   "id": "384ae091",
   "metadata": {},
   "outputs": [
    {
     "data": {
      "text/plain": [
       "('ID', 'X', 'Y')"
      ]
     },
     "execution_count": 6,
     "metadata": {},
     "output_type": "execute_result"
    }
   ],
   "source": [
    "pointspd = pd.read_excel(\"Ipin2016Dataset/PointsMapping.ods\", engine=\"odf\")\n",
    "columns = tuple(pointspd.columns)\n",
    "columns"
   ]
  },
  {
   "cell_type": "code",
   "execution_count": 7,
   "id": "72f9d380",
   "metadata": {},
   "outputs": [],
   "source": [
    "create_and_populate_table(pointspd, conn, db_name, columns, \"pointsmapping\")"
   ]
  },
  {
   "cell_type": "code",
   "execution_count": 8,
   "id": "74138f0f",
   "metadata": {},
   "outputs": [],
   "source": [
    "colnames = ['arrival', 'departure', 'tid']\n",
    "timestamp_id_1 = pd.read_csv(\"Ipin2016Dataset/measure1_timestamp_id.csv\", names=colnames, header=None)\n",
    "columns = tuple(timestamp_id_1.columns)"
   ]
  },
  {
   "cell_type": "code",
   "execution_count": 9,
   "id": "aa593730",
   "metadata": {},
   "outputs": [],
   "source": [
    "create_and_populate_table(timestamp_id_1, conn, db_name, columns, \"timestamp\")"
   ]
  },
  {
   "cell_type": "code",
   "execution_count": 10,
   "id": "b3007162",
   "metadata": {},
   "outputs": [],
   "source": [
    "colnames = ['arrival', 'departure', 'tid']\n",
    "timestamp_id_1 = pd.read_csv(\"Ipin2016Dataset/measure2_timestamp_id.csv\", names=colnames, header=None)\n",
    "columns = tuple(timestamp_id_1.columns)"
   ]
  },
  {
   "cell_type": "code",
   "execution_count": 11,
   "id": "a04bb655",
   "metadata": {},
   "outputs": [
    {
     "name": "stdout",
     "output_type": "stream",
     "text": [
      "table timestamp already exists\n"
     ]
    }
   ],
   "source": [
    "create_and_populate_table(timestamp_id_1, conn, db_name, columns, \"timestamp\")"
   ]
  },
  {
   "cell_type": "code",
   "execution_count": 12,
   "id": "1869abd4",
   "metadata": {},
   "outputs": [],
   "source": [
    "smartphone_sens1 = pd.read_csv(\"Ipin2016Dataset/measure1_smartphone_sens.csv\")\n",
    "oldcolumns =  tuple(smartphone_sens1.columns)\n",
    "columns = tuple([col.strip() for col in oldcolumns])\n",
    "# smartphone_sens1 = pd.read_csv(\"Ipin2016Dataset/measure1_smartphone_sens.csv\")\n",
    "smartphone_sens1.rename(columns = dict([(key, value) for key, value in zip(oldcolumns, columns)]), inplace=True)"
   ]
  },
  {
   "cell_type": "code",
   "execution_count": 13,
   "id": "27840500",
   "metadata": {},
   "outputs": [],
   "source": [
    "create_and_populate_table(smartphone_sens1, conn, db_name, columns, \"smartphone_sensor\")"
   ]
  },
  {
   "cell_type": "code",
   "execution_count": 14,
   "id": "dcd2782c",
   "metadata": {},
   "outputs": [],
   "source": [
    "smartphone_sens1 = pd.read_csv(\"Ipin2016Dataset/measure2_phone_sens.csv\", names=columns)\n",
    "create_and_populate_table(smartphone_sens1, conn, db_name, columns, \"smartphone_sensor2\")"
   ]
  },
  {
   "cell_type": "code",
   "execution_count": 15,
   "id": "f8e36e69",
   "metadata": {},
   "outputs": [],
   "source": [
    "smartphone_wifi1 = pd.read_csv(\"Ipin2016Dataset/measure1_smartphone_wifi.csv\", names=columns)\n",
    "create_and_populate_table(smartphone_wifi1, conn, db_name, columns, \"smartphone_wifi\")"
   ]
  },
  {
   "cell_type": "code",
   "execution_count": 16,
   "id": "c1a950be",
   "metadata": {},
   "outputs": [
    {
     "name": "stdout",
     "output_type": "stream",
     "text": [
      "table smartphone_wifi already exists\n"
     ]
    }
   ],
   "source": [
    "smartphone_wifi1 = pd.read_csv(\"Ipin2016Dataset/measure2_smartphone_wifi.csv\", names=columns)\n",
    "create_and_populate_table(smartphone_wifi1, conn, db_name, columns, \"smartphone_wifi\")"
   ]
  },
  {
   "cell_type": "code",
   "execution_count": 17,
   "id": "0cb468eb",
   "metadata": {},
   "outputs": [],
   "source": [
    "watch_sens = pd.read_csv(\"Ipin2016Dataset/measure1_smartwatch_sens.csv\", names=columns)\n",
    "create_and_populate_table(watch_sens, conn, db_name, columns, \"smartwatch_sensor\")"
   ]
  },
  {
   "cell_type": "code",
   "execution_count": 18,
   "id": "51f8253f",
   "metadata": {},
   "outputs": [
    {
     "name": "stdout",
     "output_type": "stream",
     "text": [
      "table smartwatch_sensor already exists\n"
     ]
    }
   ],
   "source": [
    "watch_sens = pd.read_csv(\"Ipin2016Dataset/measure2_watch_sens.csv\", names=columns)\n",
    "create_and_populate_table(watch_sens, conn, db_name, columns, \"smartwatch_sensor\")"
   ]
  },
  {
   "cell_type": "code",
   "execution_count": 19,
   "id": "db845756",
   "metadata": {},
   "outputs": [
    {
     "name": "stdout",
     "output_type": "stream",
     "text": [
      "[('pointsmapping',), ('timestamp',), ('smartphone_sensor',), ('smartphone_sensor2',), ('smartphone_wifi',), ('smartwatch_sensor',)]\n"
     ]
    }
   ],
   "source": [
    "sql_query = \"\"\"SELECT name FROM sqlite_master  \n",
    "  WHERE type='table';\"\"\"\n",
    "\n",
    "c.execute(sql_query)\n",
    "\n",
    "print(c.fetchall())"
   ]
  },
  {
   "cell_type": "code",
   "execution_count": 20,
   "id": "60ca2162",
   "metadata": {},
   "outputs": [],
   "source": [
    "sql_query = '''SELECT * FROM pointsmapping\n",
    "INNER JOIN timestamp ON timestamp.tid = pointsmapping.ID;'''\n",
    "\n",
    "label_df = pd.read_sql_query(sql_query, conn)"
   ]
  },
  {
   "cell_type": "code",
   "execution_count": 21,
   "id": "75281ed4",
   "metadata": {},
   "outputs": [
    {
     "data": {
      "text/html": [
       "<div>\n",
       "<style scoped>\n",
       "    .dataframe tbody tr th:only-of-type {\n",
       "        vertical-align: middle;\n",
       "    }\n",
       "\n",
       "    .dataframe tbody tr th {\n",
       "        vertical-align: top;\n",
       "    }\n",
       "\n",
       "    .dataframe thead th {\n",
       "        text-align: right;\n",
       "    }\n",
       "</style>\n",
       "<table border=\"1\" class=\"dataframe\">\n",
       "  <thead>\n",
       "    <tr style=\"text-align: right;\">\n",
       "      <th></th>\n",
       "      <th>ID</th>\n",
       "      <th>X</th>\n",
       "      <th>Y</th>\n",
       "      <th>arrival</th>\n",
       "      <th>departure</th>\n",
       "      <th>tid</th>\n",
       "    </tr>\n",
       "  </thead>\n",
       "  <tbody>\n",
       "    <tr>\n",
       "      <th>count</th>\n",
       "      <td>646.000000</td>\n",
       "      <td>646.000000</td>\n",
       "      <td>646.000000</td>\n",
       "      <td>6.460000e+02</td>\n",
       "      <td>6.460000e+02</td>\n",
       "      <td>646.000000</td>\n",
       "    </tr>\n",
       "    <tr>\n",
       "      <th>mean</th>\n",
       "      <td>161.043344</td>\n",
       "      <td>24.601858</td>\n",
       "      <td>13.770279</td>\n",
       "      <td>1.422880e+12</td>\n",
       "      <td>1.422880e+12</td>\n",
       "      <td>161.043344</td>\n",
       "    </tr>\n",
       "    <tr>\n",
       "      <th>std</th>\n",
       "      <td>92.871561</td>\n",
       "      <td>11.602004</td>\n",
       "      <td>10.817825</td>\n",
       "      <td>1.713053e+08</td>\n",
       "      <td>1.713050e+08</td>\n",
       "      <td>92.871561</td>\n",
       "    </tr>\n",
       "    <tr>\n",
       "      <th>min</th>\n",
       "      <td>2.000000</td>\n",
       "      <td>0.600000</td>\n",
       "      <td>0.600000</td>\n",
       "      <td>1.422629e+12</td>\n",
       "      <td>1.422629e+12</td>\n",
       "      <td>2.000000</td>\n",
       "    </tr>\n",
       "    <tr>\n",
       "      <th>25%</th>\n",
       "      <td>79.250000</td>\n",
       "      <td>17.400000</td>\n",
       "      <td>5.400000</td>\n",
       "      <td>1.422632e+12</td>\n",
       "      <td>1.422632e+12</td>\n",
       "      <td>79.250000</td>\n",
       "    </tr>\n",
       "    <tr>\n",
       "      <th>50%</th>\n",
       "      <td>160.000000</td>\n",
       "      <td>30.000000</td>\n",
       "      <td>6.600000</td>\n",
       "      <td>1.422885e+12</td>\n",
       "      <td>1.422885e+12</td>\n",
       "      <td>160.000000</td>\n",
       "    </tr>\n",
       "    <tr>\n",
       "      <th>75%</th>\n",
       "      <td>240.750000</td>\n",
       "      <td>35.400000</td>\n",
       "      <td>25.200000</td>\n",
       "      <td>1.423044e+12</td>\n",
       "      <td>1.423044e+12</td>\n",
       "      <td>240.750000</td>\n",
       "    </tr>\n",
       "    <tr>\n",
       "      <th>max</th>\n",
       "      <td>324.000000</td>\n",
       "      <td>36.000000</td>\n",
       "      <td>34.200000</td>\n",
       "      <td>1.423128e+12</td>\n",
       "      <td>1.423128e+12</td>\n",
       "      <td>324.000000</td>\n",
       "    </tr>\n",
       "  </tbody>\n",
       "</table>\n",
       "</div>"
      ],
      "text/plain": [
       "               ID           X           Y       arrival     departure  \\\n",
       "count  646.000000  646.000000  646.000000  6.460000e+02  6.460000e+02   \n",
       "mean   161.043344   24.601858   13.770279  1.422880e+12  1.422880e+12   \n",
       "std     92.871561   11.602004   10.817825  1.713053e+08  1.713050e+08   \n",
       "min      2.000000    0.600000    0.600000  1.422629e+12  1.422629e+12   \n",
       "25%     79.250000   17.400000    5.400000  1.422632e+12  1.422632e+12   \n",
       "50%    160.000000   30.000000    6.600000  1.422885e+12  1.422885e+12   \n",
       "75%    240.750000   35.400000   25.200000  1.423044e+12  1.423044e+12   \n",
       "max    324.000000   36.000000   34.200000  1.423128e+12  1.423128e+12   \n",
       "\n",
       "              tid  \n",
       "count  646.000000  \n",
       "mean   161.043344  \n",
       "std     92.871561  \n",
       "min      2.000000  \n",
       "25%     79.250000  \n",
       "50%    160.000000  \n",
       "75%    240.750000  \n",
       "max    324.000000  "
      ]
     },
     "execution_count": 21,
     "metadata": {},
     "output_type": "execute_result"
    }
   ],
   "source": [
    "label_df.describe()"
   ]
  },
  {
   "cell_type": "code",
   "execution_count": 22,
   "id": "e06cf304",
   "metadata": {},
   "outputs": [
    {
     "data": {
      "text/html": [
       "<div>\n",
       "<style scoped>\n",
       "    .dataframe tbody tr th:only-of-type {\n",
       "        vertical-align: middle;\n",
       "    }\n",
       "\n",
       "    .dataframe tbody tr th {\n",
       "        vertical-align: top;\n",
       "    }\n",
       "\n",
       "    .dataframe thead th {\n",
       "        text-align: right;\n",
       "    }\n",
       "</style>\n",
       "<table border=\"1\" class=\"dataframe\">\n",
       "  <thead>\n",
       "    <tr style=\"text-align: right;\">\n",
       "      <th></th>\n",
       "      <th>ID</th>\n",
       "      <th>X</th>\n",
       "      <th>Y</th>\n",
       "      <th>arrival</th>\n",
       "      <th>departure</th>\n",
       "      <th>tid</th>\n",
       "    </tr>\n",
       "  </thead>\n",
       "  <tbody>\n",
       "    <tr>\n",
       "      <th>count</th>\n",
       "      <td>646.000000</td>\n",
       "      <td>646.000000</td>\n",
       "      <td>646.000000</td>\n",
       "      <td>6.460000e+02</td>\n",
       "      <td>6.460000e+02</td>\n",
       "      <td>646.000000</td>\n",
       "    </tr>\n",
       "    <tr>\n",
       "      <th>mean</th>\n",
       "      <td>161.043344</td>\n",
       "      <td>24.601858</td>\n",
       "      <td>13.770279</td>\n",
       "      <td>1.422880e+12</td>\n",
       "      <td>1.422880e+12</td>\n",
       "      <td>161.043344</td>\n",
       "    </tr>\n",
       "    <tr>\n",
       "      <th>std</th>\n",
       "      <td>92.871561</td>\n",
       "      <td>11.602004</td>\n",
       "      <td>10.817825</td>\n",
       "      <td>1.713053e+08</td>\n",
       "      <td>1.713050e+08</td>\n",
       "      <td>92.871561</td>\n",
       "    </tr>\n",
       "    <tr>\n",
       "      <th>min</th>\n",
       "      <td>2.000000</td>\n",
       "      <td>0.600000</td>\n",
       "      <td>0.600000</td>\n",
       "      <td>1.422629e+12</td>\n",
       "      <td>1.422629e+12</td>\n",
       "      <td>2.000000</td>\n",
       "    </tr>\n",
       "    <tr>\n",
       "      <th>25%</th>\n",
       "      <td>79.250000</td>\n",
       "      <td>17.400000</td>\n",
       "      <td>5.400000</td>\n",
       "      <td>1.422632e+12</td>\n",
       "      <td>1.422632e+12</td>\n",
       "      <td>79.250000</td>\n",
       "    </tr>\n",
       "    <tr>\n",
       "      <th>50%</th>\n",
       "      <td>160.000000</td>\n",
       "      <td>30.000000</td>\n",
       "      <td>6.600000</td>\n",
       "      <td>1.422885e+12</td>\n",
       "      <td>1.422885e+12</td>\n",
       "      <td>160.000000</td>\n",
       "    </tr>\n",
       "    <tr>\n",
       "      <th>75%</th>\n",
       "      <td>240.750000</td>\n",
       "      <td>35.400000</td>\n",
       "      <td>25.200000</td>\n",
       "      <td>1.423044e+12</td>\n",
       "      <td>1.423044e+12</td>\n",
       "      <td>240.750000</td>\n",
       "    </tr>\n",
       "    <tr>\n",
       "      <th>max</th>\n",
       "      <td>324.000000</td>\n",
       "      <td>36.000000</td>\n",
       "      <td>34.200000</td>\n",
       "      <td>1.423128e+12</td>\n",
       "      <td>1.423128e+12</td>\n",
       "      <td>324.000000</td>\n",
       "    </tr>\n",
       "  </tbody>\n",
       "</table>\n",
       "</div>"
      ],
      "text/plain": [
       "               ID           X           Y       arrival     departure  \\\n",
       "count  646.000000  646.000000  646.000000  6.460000e+02  6.460000e+02   \n",
       "mean   161.043344   24.601858   13.770279  1.422880e+12  1.422880e+12   \n",
       "std     92.871561   11.602004   10.817825  1.713053e+08  1.713050e+08   \n",
       "min      2.000000    0.600000    0.600000  1.422629e+12  1.422629e+12   \n",
       "25%     79.250000   17.400000    5.400000  1.422632e+12  1.422632e+12   \n",
       "50%    160.000000   30.000000    6.600000  1.422885e+12  1.422885e+12   \n",
       "75%    240.750000   35.400000   25.200000  1.423044e+12  1.423044e+12   \n",
       "max    324.000000   36.000000   34.200000  1.423128e+12  1.423128e+12   \n",
       "\n",
       "              tid  \n",
       "count  646.000000  \n",
       "mean   161.043344  \n",
       "std     92.871561  \n",
       "min      2.000000  \n",
       "25%     79.250000  \n",
       "50%    160.000000  \n",
       "75%    240.750000  \n",
       "max    324.000000  "
      ]
     },
     "execution_count": 22,
     "metadata": {},
     "output_type": "execute_result"
    }
   ],
   "source": [
    "label_df.describe()"
   ]
  },
  {
   "cell_type": "code",
   "execution_count": 23,
   "id": "069ae2f4",
   "metadata": {},
   "outputs": [
    {
     "data": {
      "text/html": [
       "<div>\n",
       "<style scoped>\n",
       "    .dataframe tbody tr th:only-of-type {\n",
       "        vertical-align: middle;\n",
       "    }\n",
       "\n",
       "    .dataframe tbody tr th {\n",
       "        vertical-align: top;\n",
       "    }\n",
       "\n",
       "    .dataframe thead th {\n",
       "        text-align: right;\n",
       "    }\n",
       "</style>\n",
       "<table border=\"1\" class=\"dataframe\">\n",
       "  <thead>\n",
       "    <tr style=\"text-align: right;\">\n",
       "      <th></th>\n",
       "      <th>timestamp</th>\n",
       "      <th>AccelerationX</th>\n",
       "      <th>AccelerationY</th>\n",
       "      <th>AccelerationZ</th>\n",
       "      <th>MagneticFieldX</th>\n",
       "      <th>MagneticFieldY</th>\n",
       "      <th>MagneticFieldZ</th>\n",
       "      <th>Z-AxisAgle(Azimuth)</th>\n",
       "      <th>X-AxisAngle(Pitch)</th>\n",
       "      <th>Y-AxisAngle(Roll)</th>\n",
       "      <th>GyroX</th>\n",
       "      <th>GyroY</th>\n",
       "      <th>GyroZ</th>\n",
       "    </tr>\n",
       "  </thead>\n",
       "  <tbody>\n",
       "    <tr>\n",
       "      <th>count</th>\n",
       "      <td>1.835400e+04</td>\n",
       "      <td>18354.000000</td>\n",
       "      <td>18354.000000</td>\n",
       "      <td>18354.000000</td>\n",
       "      <td>18354.000000</td>\n",
       "      <td>18354.000000</td>\n",
       "      <td>18354.000000</td>\n",
       "      <td>18354.000000</td>\n",
       "      <td>18354.000000</td>\n",
       "      <td>18354.000000</td>\n",
       "      <td>18354.0</td>\n",
       "      <td>18354.0</td>\n",
       "      <td>18354.0</td>\n",
       "    </tr>\n",
       "    <tr>\n",
       "      <th>mean</th>\n",
       "      <td>1.422859e+12</td>\n",
       "      <td>-0.296746</td>\n",
       "      <td>4.211019</td>\n",
       "      <td>8.288839</td>\n",
       "      <td>-1.157590</td>\n",
       "      <td>-7.415054</td>\n",
       "      <td>-29.640253</td>\n",
       "      <td>168.779099</td>\n",
       "      <td>-25.079180</td>\n",
       "      <td>-1.687723</td>\n",
       "      <td>0.0</td>\n",
       "      <td>0.0</td>\n",
       "      <td>0.0</td>\n",
       "    </tr>\n",
       "    <tr>\n",
       "      <th>std</th>\n",
       "      <td>1.796786e+08</td>\n",
       "      <td>1.172366</td>\n",
       "      <td>2.326193</td>\n",
       "      <td>1.587541</td>\n",
       "      <td>16.907053</td>\n",
       "      <td>21.466757</td>\n",
       "      <td>11.524140</td>\n",
       "      <td>114.797401</td>\n",
       "      <td>20.257369</td>\n",
       "      <td>7.512564</td>\n",
       "      <td>0.0</td>\n",
       "      <td>0.0</td>\n",
       "      <td>0.0</td>\n",
       "    </tr>\n",
       "    <tr>\n",
       "      <th>min</th>\n",
       "      <td>1.422629e+12</td>\n",
       "      <td>-11.563000</td>\n",
       "      <td>-14.702000</td>\n",
       "      <td>-3.285000</td>\n",
       "      <td>-85.900000</td>\n",
       "      <td>-103.300000</td>\n",
       "      <td>-59.800000</td>\n",
       "      <td>0.005000</td>\n",
       "      <td>-114.158000</td>\n",
       "      <td>-79.969000</td>\n",
       "      <td>0.0</td>\n",
       "      <td>0.0</td>\n",
       "      <td>0.0</td>\n",
       "    </tr>\n",
       "    <tr>\n",
       "      <th>25%</th>\n",
       "      <td>1.422632e+12</td>\n",
       "      <td>-0.675000</td>\n",
       "      <td>3.196000</td>\n",
       "      <td>7.919000</td>\n",
       "      <td>-15.400000</td>\n",
       "      <td>-27.000000</td>\n",
       "      <td>-38.100000</td>\n",
       "      <td>46.692750</td>\n",
       "      <td>-35.234000</td>\n",
       "      <td>-3.859000</td>\n",
       "      <td>0.0</td>\n",
       "      <td>0.0</td>\n",
       "      <td>0.0</td>\n",
       "    </tr>\n",
       "    <tr>\n",
       "      <th>50%</th>\n",
       "      <td>1.422884e+12</td>\n",
       "      <td>-0.331000</td>\n",
       "      <td>4.057000</td>\n",
       "      <td>8.513000</td>\n",
       "      <td>-7.800000</td>\n",
       "      <td>-5.500000</td>\n",
       "      <td>-31.600000</td>\n",
       "      <td>143.816000</td>\n",
       "      <td>-25.197000</td>\n",
       "      <td>-1.936000</td>\n",
       "      <td>0.0</td>\n",
       "      <td>0.0</td>\n",
       "      <td>0.0</td>\n",
       "    </tr>\n",
       "    <tr>\n",
       "      <th>75%</th>\n",
       "      <td>1.423044e+12</td>\n",
       "      <td>0.014000</td>\n",
       "      <td>5.724000</td>\n",
       "      <td>8.991000</td>\n",
       "      <td>16.100000</td>\n",
       "      <td>9.300000</td>\n",
       "      <td>-23.300000</td>\n",
       "      <td>307.210250</td>\n",
       "      <td>-19.470000</td>\n",
       "      <td>0.071000</td>\n",
       "      <td>0.0</td>\n",
       "      <td>0.0</td>\n",
       "      <td>0.0</td>\n",
       "    </tr>\n",
       "    <tr>\n",
       "      <th>max</th>\n",
       "      <td>1.423128e+12</td>\n",
       "      <td>14.914000</td>\n",
       "      <td>12.781000</td>\n",
       "      <td>14.747000</td>\n",
       "      <td>37.900000</td>\n",
       "      <td>53.100000</td>\n",
       "      <td>37.200000</td>\n",
       "      <td>359.989000</td>\n",
       "      <td>158.389000</td>\n",
       "      <td>80.325000</td>\n",
       "      <td>0.0</td>\n",
       "      <td>0.0</td>\n",
       "      <td>0.0</td>\n",
       "    </tr>\n",
       "  </tbody>\n",
       "</table>\n",
       "</div>"
      ],
      "text/plain": [
       "          timestamp  AccelerationX  AccelerationY  AccelerationZ  \\\n",
       "count  1.835400e+04   18354.000000   18354.000000   18354.000000   \n",
       "mean   1.422859e+12      -0.296746       4.211019       8.288839   \n",
       "std    1.796786e+08       1.172366       2.326193       1.587541   \n",
       "min    1.422629e+12     -11.563000     -14.702000      -3.285000   \n",
       "25%    1.422632e+12      -0.675000       3.196000       7.919000   \n",
       "50%    1.422884e+12      -0.331000       4.057000       8.513000   \n",
       "75%    1.423044e+12       0.014000       5.724000       8.991000   \n",
       "max    1.423128e+12      14.914000      12.781000      14.747000   \n",
       "\n",
       "       MagneticFieldX  MagneticFieldY  MagneticFieldZ  Z-AxisAgle(Azimuth)  \\\n",
       "count    18354.000000    18354.000000    18354.000000         18354.000000   \n",
       "mean        -1.157590       -7.415054      -29.640253           168.779099   \n",
       "std         16.907053       21.466757       11.524140           114.797401   \n",
       "min        -85.900000     -103.300000      -59.800000             0.005000   \n",
       "25%        -15.400000      -27.000000      -38.100000            46.692750   \n",
       "50%         -7.800000       -5.500000      -31.600000           143.816000   \n",
       "75%         16.100000        9.300000      -23.300000           307.210250   \n",
       "max         37.900000       53.100000       37.200000           359.989000   \n",
       "\n",
       "       X-AxisAngle(Pitch)  Y-AxisAngle(Roll)    GyroX    GyroY    GyroZ  \n",
       "count        18354.000000       18354.000000  18354.0  18354.0  18354.0  \n",
       "mean           -25.079180          -1.687723      0.0      0.0      0.0  \n",
       "std             20.257369           7.512564      0.0      0.0      0.0  \n",
       "min           -114.158000         -79.969000      0.0      0.0      0.0  \n",
       "25%            -35.234000          -3.859000      0.0      0.0      0.0  \n",
       "50%            -25.197000          -1.936000      0.0      0.0      0.0  \n",
       "75%            -19.470000           0.071000      0.0      0.0      0.0  \n",
       "max            158.389000          80.325000      0.0      0.0      0.0  "
      ]
     },
     "execution_count": 23,
     "metadata": {},
     "output_type": "execute_result"
    }
   ],
   "source": [
    "sql_query = '''SELECT * FROM smartphone_sensor;'''\n",
    "sensor_df = pd.read_sql_query(sql_query, conn)\n",
    "sensor_df.describe()"
   ]
  },
  {
   "cell_type": "code",
   "execution_count": 24,
   "id": "97631a85",
   "metadata": {},
   "outputs": [
    {
     "data": {
      "text/html": [
       "<div>\n",
       "<style scoped>\n",
       "    .dataframe tbody tr th:only-of-type {\n",
       "        vertical-align: middle;\n",
       "    }\n",
       "\n",
       "    .dataframe tbody tr th {\n",
       "        vertical-align: top;\n",
       "    }\n",
       "\n",
       "    .dataframe thead th {\n",
       "        text-align: right;\n",
       "    }\n",
       "</style>\n",
       "<table border=\"1\" class=\"dataframe\">\n",
       "  <thead>\n",
       "    <tr style=\"text-align: right;\">\n",
       "      <th></th>\n",
       "      <th>timestamp</th>\n",
       "      <th>AccelerationX</th>\n",
       "      <th>AccelerationY</th>\n",
       "      <th>AccelerationZ</th>\n",
       "      <th>MagneticFieldX</th>\n",
       "      <th>MagneticFieldY</th>\n",
       "      <th>MagneticFieldZ</th>\n",
       "      <th>Z-AxisAgle(Azimuth)</th>\n",
       "      <th>X-AxisAngle(Pitch)</th>\n",
       "      <th>Y-AxisAngle(Roll)</th>\n",
       "      <th>GyroX</th>\n",
       "      <th>GyroY</th>\n",
       "      <th>GyroZ</th>\n",
       "    </tr>\n",
       "  </thead>\n",
       "  <tbody>\n",
       "    <tr>\n",
       "      <th>0</th>\n",
       "      <td>1422629483421</td>\n",
       "      <td>-3.577</td>\n",
       "      <td>2.104</td>\n",
       "      <td>9.078</td>\n",
       "      <td>-5.4</td>\n",
       "      <td>-17.9</td>\n",
       "      <td>-28.2</td>\n",
       "      <td>126.404</td>\n",
       "      <td>-12.169</td>\n",
       "      <td>-21.001</td>\n",
       "      <td>0</td>\n",
       "      <td>0</td>\n",
       "      <td>0</td>\n",
       "    </tr>\n",
       "    <tr>\n",
       "      <th>1</th>\n",
       "      <td>1422629483520</td>\n",
       "      <td>-3.424</td>\n",
       "      <td>2.927</td>\n",
       "      <td>9.374</td>\n",
       "      <td>-4.3</td>\n",
       "      <td>-21.9</td>\n",
       "      <td>-26.9</td>\n",
       "      <td>134.694</td>\n",
       "      <td>-11.322</td>\n",
       "      <td>-25.898</td>\n",
       "      <td>0</td>\n",
       "      <td>0</td>\n",
       "      <td>0</td>\n",
       "    </tr>\n",
       "    <tr>\n",
       "      <th>2</th>\n",
       "      <td>1422629483620</td>\n",
       "      <td>-2.505</td>\n",
       "      <td>2.908</td>\n",
       "      <td>8.867</td>\n",
       "      <td>-0.7</td>\n",
       "      <td>-24.4</td>\n",
       "      <td>-26.5</td>\n",
       "      <td>150.906</td>\n",
       "      <td>-17.523</td>\n",
       "      <td>-15.017</td>\n",
       "      <td>0</td>\n",
       "      <td>0</td>\n",
       "      <td>0</td>\n",
       "    </tr>\n",
       "    <tr>\n",
       "      <th>3</th>\n",
       "      <td>1422629483723</td>\n",
       "      <td>-5.473</td>\n",
       "      <td>1.472</td>\n",
       "      <td>9.394</td>\n",
       "      <td>0.3</td>\n",
       "      <td>-25.7</td>\n",
       "      <td>-26.9</td>\n",
       "      <td>138.022</td>\n",
       "      <td>-21.068</td>\n",
       "      <td>-23.941</td>\n",
       "      <td>0</td>\n",
       "      <td>0</td>\n",
       "      <td>0</td>\n",
       "    </tr>\n",
       "    <tr>\n",
       "      <th>4</th>\n",
       "      <td>1422629483822</td>\n",
       "      <td>-3.414</td>\n",
       "      <td>2.018</td>\n",
       "      <td>8.187</td>\n",
       "      <td>3.7</td>\n",
       "      <td>-29.6</td>\n",
       "      <td>-23.9</td>\n",
       "      <td>163.519</td>\n",
       "      <td>-12.814</td>\n",
       "      <td>-22.046</td>\n",
       "      <td>0</td>\n",
       "      <td>0</td>\n",
       "      <td>0</td>\n",
       "    </tr>\n",
       "  </tbody>\n",
       "</table>\n",
       "</div>"
      ],
      "text/plain": [
       "       timestamp  AccelerationX  AccelerationY  AccelerationZ  MagneticFieldX  \\\n",
       "0  1422629483421         -3.577          2.104          9.078            -5.4   \n",
       "1  1422629483520         -3.424          2.927          9.374            -4.3   \n",
       "2  1422629483620         -2.505          2.908          8.867            -0.7   \n",
       "3  1422629483723         -5.473          1.472          9.394             0.3   \n",
       "4  1422629483822         -3.414          2.018          8.187             3.7   \n",
       "\n",
       "   MagneticFieldY  MagneticFieldZ  Z-AxisAgle(Azimuth)  X-AxisAngle(Pitch)  \\\n",
       "0           -17.9           -28.2              126.404             -12.169   \n",
       "1           -21.9           -26.9              134.694             -11.322   \n",
       "2           -24.4           -26.5              150.906             -17.523   \n",
       "3           -25.7           -26.9              138.022             -21.068   \n",
       "4           -29.6           -23.9              163.519             -12.814   \n",
       "\n",
       "   Y-AxisAngle(Roll)  GyroX  GyroY  GyroZ  \n",
       "0            -21.001      0      0      0  \n",
       "1            -25.898      0      0      0  \n",
       "2            -15.017      0      0      0  \n",
       "3            -23.941      0      0      0  \n",
       "4            -22.046      0      0      0  "
      ]
     },
     "execution_count": 24,
     "metadata": {},
     "output_type": "execute_result"
    }
   ],
   "source": [
    "sensor_df.head()"
   ]
  },
  {
   "cell_type": "code",
   "execution_count": 25,
   "id": "eb7b1330",
   "metadata": {},
   "outputs": [
    {
     "data": {
      "text/plain": [
       "[]"
      ]
     },
     "execution_count": 25,
     "metadata": {},
     "output_type": "execute_result"
    }
   ],
   "source": [
    "obj_feat = list(sensor_df.loc[:, sensor_df.dtypes == 'object'].columns.values)\n",
    "obj_feat"
   ]
  },
  {
   "cell_type": "code",
   "execution_count": 26,
   "id": "99ecad9a",
   "metadata": {},
   "outputs": [],
   "source": [
    "for feature in obj_feat:\n",
    "    sensor_df[feature] = pd.to_numeric(sensor_df[feature])"
   ]
  },
  {
   "cell_type": "code",
   "execution_count": 27,
   "id": "800d0014",
   "metadata": {},
   "outputs": [
    {
     "data": {
      "text/html": [
       "<div>\n",
       "<style scoped>\n",
       "    .dataframe tbody tr th:only-of-type {\n",
       "        vertical-align: middle;\n",
       "    }\n",
       "\n",
       "    .dataframe tbody tr th {\n",
       "        vertical-align: top;\n",
       "    }\n",
       "\n",
       "    .dataframe thead th {\n",
       "        text-align: right;\n",
       "    }\n",
       "</style>\n",
       "<table border=\"1\" class=\"dataframe\">\n",
       "  <thead>\n",
       "    <tr style=\"text-align: right;\">\n",
       "      <th></th>\n",
       "      <th>timestamp</th>\n",
       "      <th>AccelerationX</th>\n",
       "      <th>AccelerationY</th>\n",
       "      <th>AccelerationZ</th>\n",
       "      <th>MagneticFieldX</th>\n",
       "      <th>MagneticFieldY</th>\n",
       "      <th>MagneticFieldZ</th>\n",
       "      <th>Z-AxisAgle(Azimuth)</th>\n",
       "      <th>X-AxisAngle(Pitch)</th>\n",
       "      <th>Y-AxisAngle(Roll)</th>\n",
       "      <th>GyroX</th>\n",
       "      <th>GyroY</th>\n",
       "      <th>GyroZ</th>\n",
       "    </tr>\n",
       "  </thead>\n",
       "  <tbody>\n",
       "    <tr>\n",
       "      <th>0</th>\n",
       "      <td>1422629483421</td>\n",
       "      <td>-3.577</td>\n",
       "      <td>2.104</td>\n",
       "      <td>9.078</td>\n",
       "      <td>-5.4</td>\n",
       "      <td>-17.9</td>\n",
       "      <td>-28.2</td>\n",
       "      <td>126.404</td>\n",
       "      <td>-12.169</td>\n",
       "      <td>-21.001</td>\n",
       "      <td>0</td>\n",
       "      <td>0</td>\n",
       "      <td>0</td>\n",
       "    </tr>\n",
       "    <tr>\n",
       "      <th>1</th>\n",
       "      <td>1422629483520</td>\n",
       "      <td>-3.424</td>\n",
       "      <td>2.927</td>\n",
       "      <td>9.374</td>\n",
       "      <td>-4.3</td>\n",
       "      <td>-21.9</td>\n",
       "      <td>-26.9</td>\n",
       "      <td>134.694</td>\n",
       "      <td>-11.322</td>\n",
       "      <td>-25.898</td>\n",
       "      <td>0</td>\n",
       "      <td>0</td>\n",
       "      <td>0</td>\n",
       "    </tr>\n",
       "    <tr>\n",
       "      <th>2</th>\n",
       "      <td>1422629483620</td>\n",
       "      <td>-2.505</td>\n",
       "      <td>2.908</td>\n",
       "      <td>8.867</td>\n",
       "      <td>-0.7</td>\n",
       "      <td>-24.4</td>\n",
       "      <td>-26.5</td>\n",
       "      <td>150.906</td>\n",
       "      <td>-17.523</td>\n",
       "      <td>-15.017</td>\n",
       "      <td>0</td>\n",
       "      <td>0</td>\n",
       "      <td>0</td>\n",
       "    </tr>\n",
       "    <tr>\n",
       "      <th>3</th>\n",
       "      <td>1422629483723</td>\n",
       "      <td>-5.473</td>\n",
       "      <td>1.472</td>\n",
       "      <td>9.394</td>\n",
       "      <td>0.3</td>\n",
       "      <td>-25.7</td>\n",
       "      <td>-26.9</td>\n",
       "      <td>138.022</td>\n",
       "      <td>-21.068</td>\n",
       "      <td>-23.941</td>\n",
       "      <td>0</td>\n",
       "      <td>0</td>\n",
       "      <td>0</td>\n",
       "    </tr>\n",
       "    <tr>\n",
       "      <th>4</th>\n",
       "      <td>1422629483822</td>\n",
       "      <td>-3.414</td>\n",
       "      <td>2.018</td>\n",
       "      <td>8.187</td>\n",
       "      <td>3.7</td>\n",
       "      <td>-29.6</td>\n",
       "      <td>-23.9</td>\n",
       "      <td>163.519</td>\n",
       "      <td>-12.814</td>\n",
       "      <td>-22.046</td>\n",
       "      <td>0</td>\n",
       "      <td>0</td>\n",
       "      <td>0</td>\n",
       "    </tr>\n",
       "  </tbody>\n",
       "</table>\n",
       "</div>"
      ],
      "text/plain": [
       "       timestamp  AccelerationX  AccelerationY  AccelerationZ  MagneticFieldX  \\\n",
       "0  1422629483421         -3.577          2.104          9.078            -5.4   \n",
       "1  1422629483520         -3.424          2.927          9.374            -4.3   \n",
       "2  1422629483620         -2.505          2.908          8.867            -0.7   \n",
       "3  1422629483723         -5.473          1.472          9.394             0.3   \n",
       "4  1422629483822         -3.414          2.018          8.187             3.7   \n",
       "\n",
       "   MagneticFieldY  MagneticFieldZ  Z-AxisAgle(Azimuth)  X-AxisAngle(Pitch)  \\\n",
       "0           -17.9           -28.2              126.404             -12.169   \n",
       "1           -21.9           -26.9              134.694             -11.322   \n",
       "2           -24.4           -26.5              150.906             -17.523   \n",
       "3           -25.7           -26.9              138.022             -21.068   \n",
       "4           -29.6           -23.9              163.519             -12.814   \n",
       "\n",
       "   Y-AxisAngle(Roll)  GyroX  GyroY  GyroZ  \n",
       "0            -21.001      0      0      0  \n",
       "1            -25.898      0      0      0  \n",
       "2            -15.017      0      0      0  \n",
       "3            -23.941      0      0      0  \n",
       "4            -22.046      0      0      0  "
      ]
     },
     "execution_count": 27,
     "metadata": {},
     "output_type": "execute_result"
    }
   ],
   "source": [
    "sensor_df.head()"
   ]
  },
  {
   "cell_type": "code",
   "execution_count": 28,
   "id": "bcbe26a8",
   "metadata": {},
   "outputs": [],
   "source": [
    "def train_validate_test_split(df, train_percent=.8, validate_percent=.2, seed=None, \n",
    "                              target=\"Z-AxisAgle(Azimuth)\", categorical=[\"timestamp\"]):\n",
    "    \n",
    "    np.random.seed(seed)\n",
    "    perm = np.random.permutation(df.index)\n",
    "    m = len(df.index)\n",
    "    \n",
    "    train_end = int(train_percent * m)\n",
    "    train = df.iloc[perm[:train_end]].astype(float)\n",
    "    validate = df.iloc[perm[train_end:]].astype(float)\n",
    "    \n",
    "    y_train = train[target]\n",
    "    y_test = validate[target]\n",
    "    \n",
    "    train.drop([target]+categorical, axis=1, inplace=True)\n",
    "    validate.drop([target]+categorical, axis=1, inplace=True)\n",
    "    \n",
    "    return train, y_train, validate, y_test"
   ]
  },
  {
   "cell_type": "code",
   "execution_count": 29,
   "id": "dcaf9119",
   "metadata": {},
   "outputs": [],
   "source": [
    "X_train, y_train, X_test, y_test = train_validate_test_split(sensor_df.copy())"
   ]
  },
  {
   "cell_type": "code",
   "execution_count": 30,
   "id": "f2fd287a",
   "metadata": {},
   "outputs": [
    {
     "name": "stdout",
     "output_type": "stream",
     "text": [
      "[05:40:34] WARNING: ../src/objective/regression_obj.cu:171: reg:linear is now deprecated in favor of reg:squarederror.\n",
      "[05:40:34] WARNING: ../src/learner.cc:573: \n",
      "Parameters: { \"n_estimators\" } might not be used.\n",
      "\n",
      "  This may not be accurate due to some parameters are only used in language bindings but\n",
      "  passed down to XGBoost core.  Or some parameters are not used but slip through this\n",
      "  verification. Please open an issue if you find above cases.\n",
      "\n",
      "\n",
      "[05:40:34] INFO: ../src/tree/updater_prune.cc:101: tree pruning end, 14 extra nodes, 0 pruned nodes, max_depth=3\n",
      "[0]\tdtrain-rmse:189.34106\tdval-rmse:191.06058\n",
      "[05:40:34] INFO: ../src/tree/updater_prune.cc:101: tree pruning end, 14 extra nodes, 0 pruned nodes, max_depth=3\n",
      "[1]\tdtrain-rmse:176.71684\tdval-rmse:178.37862\n",
      "[05:40:34] INFO: ../src/tree/updater_prune.cc:101: tree pruning end, 14 extra nodes, 0 pruned nodes, max_depth=3\n",
      "[2]\tdtrain-rmse:166.35384\tdval-rmse:167.94708\n",
      "[05:40:35] INFO: ../src/tree/updater_prune.cc:101: tree pruning end, 14 extra nodes, 0 pruned nodes, max_depth=3\n",
      "[3]\tdtrain-rmse:157.13200\tdval-rmse:158.69766\n",
      "[05:40:35] INFO: ../src/tree/updater_prune.cc:101: tree pruning end, 14 extra nodes, 0 pruned nodes, max_depth=3\n",
      "[4]\tdtrain-rmse:149.20567\tdval-rmse:150.75369\n",
      "[05:40:35] INFO: ../src/tree/updater_prune.cc:101: tree pruning end, 14 extra nodes, 0 pruned nodes, max_depth=3\n",
      "[5]\tdtrain-rmse:142.41048\tdval-rmse:143.92976\n",
      "[05:40:35] INFO: ../src/tree/updater_prune.cc:101: tree pruning end, 14 extra nodes, 0 pruned nodes, max_depth=3\n",
      "[6]\tdtrain-rmse:130.18359\tdval-rmse:131.55482\n",
      "[05:40:35] INFO: ../src/tree/updater_prune.cc:101: tree pruning end, 14 extra nodes, 0 pruned nodes, max_depth=3\n",
      "[7]\tdtrain-rmse:124.19453\tdval-rmse:125.51613\n",
      "[05:40:35] INFO: ../src/tree/updater_prune.cc:101: tree pruning end, 14 extra nodes, 0 pruned nodes, max_depth=3\n",
      "[8]\tdtrain-rmse:119.68590\tdval-rmse:120.96825\n",
      "[05:40:35] INFO: ../src/tree/updater_prune.cc:101: tree pruning end, 14 extra nodes, 0 pruned nodes, max_depth=3\n",
      "[9]\tdtrain-rmse:116.13274\tdval-rmse:117.35915\n",
      "[05:40:35] INFO: ../src/tree/updater_prune.cc:101: tree pruning end, 14 extra nodes, 0 pruned nodes, max_depth=3\n",
      "[10]\tdtrain-rmse:112.99556\tdval-rmse:114.21173\n",
      "[05:40:35] INFO: ../src/tree/updater_prune.cc:101: tree pruning end, 14 extra nodes, 0 pruned nodes, max_depth=3\n",
      "[11]\tdtrain-rmse:110.42697\tdval-rmse:111.59305\n",
      "[05:40:35] INFO: ../src/tree/updater_prune.cc:101: tree pruning end, 14 extra nodes, 0 pruned nodes, max_depth=3\n",
      "[12]\tdtrain-rmse:108.21027\tdval-rmse:109.37026\n",
      "[05:40:35] INFO: ../src/tree/updater_prune.cc:101: tree pruning end, 14 extra nodes, 0 pruned nodes, max_depth=3\n",
      "[13]\tdtrain-rmse:106.17390\tdval-rmse:107.32740\n",
      "[05:40:35] INFO: ../src/tree/updater_prune.cc:101: tree pruning end, 14 extra nodes, 0 pruned nodes, max_depth=3\n",
      "[14]\tdtrain-rmse:104.18584\tdval-rmse:105.28751\n",
      "[05:40:35] INFO: ../src/tree/updater_prune.cc:101: tree pruning end, 14 extra nodes, 0 pruned nodes, max_depth=3\n",
      "[15]\tdtrain-rmse:102.91169\tdval-rmse:103.97953\n",
      "[05:40:35] INFO: ../src/tree/updater_prune.cc:101: tree pruning end, 14 extra nodes, 0 pruned nodes, max_depth=3\n",
      "[16]\tdtrain-rmse:101.05895\tdval-rmse:102.16677\n",
      "[05:40:35] INFO: ../src/tree/updater_prune.cc:101: tree pruning end, 14 extra nodes, 0 pruned nodes, max_depth=3\n",
      "[17]\tdtrain-rmse:100.20366\tdval-rmse:101.28905\n",
      "[05:40:35] INFO: ../src/tree/updater_prune.cc:101: tree pruning end, 14 extra nodes, 0 pruned nodes, max_depth=3\n",
      "[18]\tdtrain-rmse:92.13730\tdval-rmse:93.19920\n",
      "[05:40:35] INFO: ../src/tree/updater_prune.cc:101: tree pruning end, 14 extra nodes, 0 pruned nodes, max_depth=3\n",
      "[19]\tdtrain-rmse:91.06902\tdval-rmse:92.07251\n",
      "[05:40:35] INFO: ../src/tree/updater_prune.cc:101: tree pruning end, 12 extra nodes, 0 pruned nodes, max_depth=3\n",
      "[20]\tdtrain-rmse:90.57243\tdval-rmse:91.53976\n",
      "[05:40:35] INFO: ../src/tree/updater_prune.cc:101: tree pruning end, 14 extra nodes, 0 pruned nodes, max_depth=3\n",
      "[21]\tdtrain-rmse:89.85893\tdval-rmse:90.86539\n",
      "[05:40:35] INFO: ../src/tree/updater_prune.cc:101: tree pruning end, 14 extra nodes, 0 pruned nodes, max_depth=3\n",
      "[22]\tdtrain-rmse:89.50422\tdval-rmse:90.50541\n",
      "[05:40:35] INFO: ../src/tree/updater_prune.cc:101: tree pruning end, 14 extra nodes, 0 pruned nodes, max_depth=3\n",
      "[23]\tdtrain-rmse:89.18550\tdval-rmse:90.15378\n",
      "[05:40:35] INFO: ../src/tree/updater_prune.cc:101: tree pruning end, 0 extra nodes, 0 pruned nodes, max_depth=0\n",
      "[24]\tdtrain-rmse:88.99374\tdval-rmse:89.94084\n",
      "[05:40:35] INFO: ../src/tree/updater_prune.cc:101: tree pruning end, 14 extra nodes, 0 pruned nodes, max_depth=3\n",
      "[25]\tdtrain-rmse:88.77191\tdval-rmse:89.70325\n",
      "[05:40:35] INFO: ../src/tree/updater_prune.cc:101: tree pruning end, 14 extra nodes, 0 pruned nodes, max_depth=3\n",
      "[26]\tdtrain-rmse:88.59712\tdval-rmse:89.51540\n",
      "[05:40:35] INFO: ../src/tree/updater_prune.cc:101: tree pruning end, 12 extra nodes, 0 pruned nodes, max_depth=3\n",
      "[27]\tdtrain-rmse:88.45049\tdval-rmse:89.35392\n",
      "[05:40:35] INFO: ../src/tree/updater_prune.cc:101: tree pruning end, 14 extra nodes, 0 pruned nodes, max_depth=3\n",
      "[28]\tdtrain-rmse:88.31774\tdval-rmse:89.21269\n",
      "[05:40:35] INFO: ../src/tree/updater_prune.cc:101: tree pruning end, 14 extra nodes, 0 pruned nodes, max_depth=3\n",
      "[29]\tdtrain-rmse:88.20499\tdval-rmse:89.08697\n",
      "[05:40:35] INFO: ../src/tree/updater_prune.cc:101: tree pruning end, 14 extra nodes, 0 pruned nodes, max_depth=3\n",
      "[30]\tdtrain-rmse:88.09801\tdval-rmse:88.98378\n",
      "[05:40:35] INFO: ../src/tree/updater_prune.cc:101: tree pruning end, 14 extra nodes, 0 pruned nodes, max_depth=3\n",
      "[31]\tdtrain-rmse:87.96807\tdval-rmse:88.85141\n",
      "[05:40:35] INFO: ../src/tree/updater_prune.cc:101: tree pruning end, 0 extra nodes, 0 pruned nodes, max_depth=0\n",
      "[32]\tdtrain-rmse:87.93205\tdval-rmse:88.80579\n",
      "[05:40:35] INFO: ../src/tree/updater_prune.cc:101: tree pruning end, 14 extra nodes, 0 pruned nodes, max_depth=3\n",
      "[33]\tdtrain-rmse:87.83658\tdval-rmse:88.71571\n",
      "[05:40:35] INFO: ../src/tree/updater_prune.cc:101: tree pruning end, 14 extra nodes, 0 pruned nodes, max_depth=3\n",
      "[34]\tdtrain-rmse:80.68058\tdval-rmse:81.52649\n",
      "[05:40:35] INFO: ../src/tree/updater_prune.cc:101: tree pruning end, 14 extra nodes, 0 pruned nodes, max_depth=3\n",
      "[35]\tdtrain-rmse:74.91199\tdval-rmse:75.76920\n",
      "[05:40:35] INFO: ../src/tree/updater_prune.cc:101: tree pruning end, 12 extra nodes, 0 pruned nodes, max_depth=3\n",
      "[36]\tdtrain-rmse:74.86070\tdval-rmse:75.72498\n",
      "[05:40:35] INFO: ../src/tree/updater_prune.cc:101: tree pruning end, 14 extra nodes, 0 pruned nodes, max_depth=3\n",
      "[37]\tdtrain-rmse:74.59869\tdval-rmse:75.48936\n",
      "[05:40:35] INFO: ../src/tree/updater_prune.cc:101: tree pruning end, 10 extra nodes, 0 pruned nodes, max_depth=3\n",
      "[38]\tdtrain-rmse:74.56345\tdval-rmse:75.45521\n",
      "[05:40:35] INFO: ../src/tree/updater_prune.cc:101: tree pruning end, 14 extra nodes, 0 pruned nodes, max_depth=3\n",
      "[39]\tdtrain-rmse:69.55565\tdval-rmse:70.47227\n",
      "[05:40:35] INFO: ../src/tree/updater_prune.cc:101: tree pruning end, 14 extra nodes, 0 pruned nodes, max_depth=3\n",
      "[40]\tdtrain-rmse:69.30166\tdval-rmse:70.24793\n",
      "[05:40:35] INFO: ../src/tree/updater_prune.cc:101: tree pruning end, 14 extra nodes, 0 pruned nodes, max_depth=3\n",
      "[41]\tdtrain-rmse:69.07579\tdval-rmse:70.01693\n",
      "[05:40:35] INFO: ../src/tree/updater_prune.cc:101: tree pruning end, 14 extra nodes, 0 pruned nodes, max_depth=3\n",
      "[42]\tdtrain-rmse:69.02303\tdval-rmse:69.98969\n",
      "[05:40:35] INFO: ../src/tree/updater_prune.cc:101: tree pruning end, 14 extra nodes, 0 pruned nodes, max_depth=3\n",
      "[43]\tdtrain-rmse:68.95918\tdval-rmse:69.93904\n",
      "[05:40:35] INFO: ../src/tree/updater_prune.cc:101: tree pruning end, 14 extra nodes, 0 pruned nodes, max_depth=3\n",
      "[44]\tdtrain-rmse:68.89215\tdval-rmse:69.86788\n",
      "[05:40:35] INFO: ../src/tree/updater_prune.cc:101: tree pruning end, 14 extra nodes, 0 pruned nodes, max_depth=3\n",
      "[45]\tdtrain-rmse:63.96495\tdval-rmse:64.90098\n",
      "[05:40:35] INFO: ../src/tree/updater_prune.cc:101: tree pruning end, 14 extra nodes, 0 pruned nodes, max_depth=3\n",
      "[46]\tdtrain-rmse:63.92927\tdval-rmse:64.86439\n",
      "[05:40:35] INFO: ../src/tree/updater_prune.cc:101: tree pruning end, 12 extra nodes, 0 pruned nodes, max_depth=3\n",
      "[47]\tdtrain-rmse:63.88362\tdval-rmse:64.84611\n",
      "[05:40:35] INFO: ../src/tree/updater_prune.cc:101: tree pruning end, 14 extra nodes, 0 pruned nodes, max_depth=3\n",
      "[48]\tdtrain-rmse:63.85139\tdval-rmse:64.83128\n"
     ]
    },
    {
     "name": "stdout",
     "output_type": "stream",
     "text": [
      "[05:40:35] INFO: ../src/tree/updater_prune.cc:101: tree pruning end, 12 extra nodes, 0 pruned nodes, max_depth=3\n",
      "[49]\tdtrain-rmse:63.82523\tdval-rmse:64.81294\n"
     ]
    }
   ],
   "source": [
    "import xgboost as xgb\n",
    "from sklearn.metrics import mean_squared_error\n",
    "\n",
    "dtrain = xgb.DMatrix(data=X_train, label=y_train)\n",
    "dval = xgb.DMatrix(data=X_test, label=y_test)\n",
    "# dtest = xgb.DMatrix(data=xtest)\n",
    "\n",
    "params = dict(objective ='reg:linear', colsample_bytree = 0.2, learning_rate = 0.1,\n",
    "            max_depth = 3, alpha = 10, n_estimators = 10, eval_metric='rmse', verbosity=2)\n",
    "\n",
    "num_round = 50\n",
    "bst = xgb.train(params, dtrain, num_round, evals=[(dtrain, 'dtrain'), (dval, 'dval')])"
   ]
  },
  {
   "cell_type": "code",
   "execution_count": 31,
   "id": "b47d8634",
   "metadata": {},
   "outputs": [
    {
     "name": "stdout",
     "output_type": "stream",
     "text": [
      "[05:40:35] INFO: ../src/tree/updater_prune.cc:101: tree pruning end, 14 extra nodes, 0 pruned nodes, max_depth=3\n",
      "[0]\tvalidation_0-rmse:189.34106\tvalidation_1-rmse:191.06058\n",
      "[05:40:35] INFO: ../src/tree/updater_prune.cc:101: tree pruning end, 14 extra nodes, 0 pruned nodes, max_depth=3\n",
      "[1]\tvalidation_0-rmse:176.71684\tvalidation_1-rmse:178.37862\n",
      "[05:40:35] INFO: ../src/tree/updater_prune.cc:101: tree pruning end, 14 extra nodes, 0 pruned nodes, max_depth=3\n",
      "[2]\tvalidation_0-rmse:166.35384\tvalidation_1-rmse:167.94707\n",
      "[05:40:35] INFO: ../src/tree/updater_prune.cc:101: tree pruning end, 14 extra nodes, 0 pruned nodes, max_depth=3\n",
      "[3]\tvalidation_0-rmse:157.13200\tvalidation_1-rmse:158.69766\n",
      "[05:40:35] INFO: ../src/tree/updater_prune.cc:101: tree pruning end, 14 extra nodes, 0 pruned nodes, max_depth=3\n",
      "[4]\tvalidation_0-rmse:149.20567\tvalidation_1-rmse:150.75369\n",
      "[05:40:35] INFO: ../src/tree/updater_prune.cc:101: tree pruning end, 14 extra nodes, 0 pruned nodes, max_depth=3\n",
      "[5]\tvalidation_0-rmse:142.41049\tvalidation_1-rmse:143.92976\n",
      "[05:40:35] INFO: ../src/tree/updater_prune.cc:101: tree pruning end, 14 extra nodes, 0 pruned nodes, max_depth=3\n",
      "[6]\tvalidation_0-rmse:130.18359\tvalidation_1-rmse:131.55482\n",
      "[05:40:35] INFO: ../src/tree/updater_prune.cc:101: tree pruning end, 14 extra nodes, 0 pruned nodes, max_depth=3\n",
      "[7]\tvalidation_0-rmse:124.19453\tvalidation_1-rmse:125.51614\n",
      "[05:40:35] INFO: ../src/tree/updater_prune.cc:101: tree pruning end, 14 extra nodes, 0 pruned nodes, max_depth=3\n",
      "[8]\tvalidation_0-rmse:119.68590\tvalidation_1-rmse:120.96825\n",
      "[05:40:35] INFO: ../src/tree/updater_prune.cc:101: tree pruning end, 14 extra nodes, 0 pruned nodes, max_depth=3\n",
      "[9]\tvalidation_0-rmse:116.13274\tvalidation_1-rmse:117.35915\n"
     ]
    },
    {
     "data": {
      "text/plain": [
       "XGBRegressor(alpha=10, base_score=0.5, booster='gbtree', colsample_bylevel=1,\n",
       "             colsample_bynode=1, colsample_bytree=0.2, eval_metric='rmse',\n",
       "             gamma=0, gpu_id=-1, importance_type='gain',\n",
       "             interaction_constraints='', learning_rate=0.1, max_delta_step=0,\n",
       "             max_depth=3, min_child_weight=1, missing=nan,\n",
       "             monotone_constraints='()', n_estimators=10, n_jobs=8,\n",
       "             num_parallel_tree=1, random_state=0, reg_alpha=10, reg_lambda=1,\n",
       "             scale_pos_weight=1, subsample=1, tree_method='exact',\n",
       "             validate_parameters=1, verbosity=2)"
      ]
     },
     "execution_count": 31,
     "metadata": {},
     "output_type": "execute_result"
    }
   ],
   "source": [
    "# training\n",
    "model = xgb.XGBRegressor(colsample_bytree = 0.2, learning_rate = 0.1,\n",
    "            max_depth = 3, alpha = 10, n_estimators = 10, eval_metric='rmse', verbosity=2)\n",
    "\n",
    "model.fit(X_train, y_train, \n",
    "          eval_set=[(X_train, y_train), (X_test, y_test)], \n",
    "          early_stopping_rounds=200)"
   ]
  },
  {
   "cell_type": "code",
   "execution_count": 32,
   "id": "493beb88",
   "metadata": {},
   "outputs": [],
   "source": [
    "# training\n",
    "# save to JSON\n",
    "model.save_model(\"model/model.json\")"
   ]
  },
  {
   "cell_type": "code",
   "execution_count": 33,
   "id": "73e3e19c",
   "metadata": {},
   "outputs": [],
   "source": [
    "# load the model\n",
    "model2 = xgb.XGBRegressor()\n",
    "model2.load_model(\"model/model.json\")"
   ]
  },
  {
   "cell_type": "code",
   "execution_count": 34,
   "id": "15171f2f",
   "metadata": {},
   "outputs": [
    {
     "data": {
      "text/plain": [
       "array([101.70744 , 126.47478 , 111.85    , ...,  83.730446, 131.30318 ,\n",
       "        87.99688 ], dtype=float32)"
      ]
     },
     "execution_count": 34,
     "metadata": {},
     "output_type": "execute_result"
    }
   ],
   "source": [
    "model2.predict(X_test)"
   ]
  },
  {
   "cell_type": "code",
   "execution_count": 35,
   "id": "364b6ba6",
   "metadata": {},
   "outputs": [
    {
     "data": {
      "text/plain": [
       "Index(['ID', 'X', 'Y', 'arrival', 'departure', 'tid'], dtype='object')"
      ]
     },
     "execution_count": 35,
     "metadata": {},
     "output_type": "execute_result"
    }
   ],
   "source": [
    "label_df.columns"
   ]
  },
  {
   "cell_type": "code",
   "execution_count": 36,
   "id": "5dc08cad",
   "metadata": {},
   "outputs": [],
   "source": [
    "# Trying querying a time stample and predict for that time stamp \n",
    "\n",
    "t1, t2 = label_df[\"arrival\"][0], label_df[\"departure\"][0]"
   ]
  },
  {
   "cell_type": "code",
   "execution_count": 47,
   "id": "b3668140",
   "metadata": {},
   "outputs": [
    {
     "data": {
      "text/html": [
       "<div>\n",
       "<style scoped>\n",
       "    .dataframe tbody tr th:only-of-type {\n",
       "        vertical-align: middle;\n",
       "    }\n",
       "\n",
       "    .dataframe tbody tr th {\n",
       "        vertical-align: top;\n",
       "    }\n",
       "\n",
       "    .dataframe thead th {\n",
       "        text-align: right;\n",
       "    }\n",
       "</style>\n",
       "<table border=\"1\" class=\"dataframe\">\n",
       "  <thead>\n",
       "    <tr style=\"text-align: right;\">\n",
       "      <th></th>\n",
       "      <th>timestamp</th>\n",
       "      <th>AccelerationX</th>\n",
       "      <th>AccelerationY</th>\n",
       "      <th>AccelerationZ</th>\n",
       "      <th>MagneticFieldX</th>\n",
       "      <th>MagneticFieldY</th>\n",
       "      <th>MagneticFieldZ</th>\n",
       "      <th>Z-AxisAgle(Azimuth)</th>\n",
       "      <th>X-AxisAngle(Pitch)</th>\n",
       "      <th>Y-AxisAngle(Roll)</th>\n",
       "      <th>GyroX</th>\n",
       "      <th>GyroY</th>\n",
       "      <th>GyroZ</th>\n",
       "    </tr>\n",
       "  </thead>\n",
       "  <tbody>\n",
       "    <tr>\n",
       "      <th>count</th>\n",
       "      <td>4.200000e+01</td>\n",
       "      <td>42.000000</td>\n",
       "      <td>42.000000</td>\n",
       "      <td>42.000000</td>\n",
       "      <td>42.000000</td>\n",
       "      <td>42.000000</td>\n",
       "      <td>42.000000</td>\n",
       "      <td>42.00000</td>\n",
       "      <td>42.000000</td>\n",
       "      <td>42.000000</td>\n",
       "      <td>42.0</td>\n",
       "      <td>42.0</td>\n",
       "      <td>42.0</td>\n",
       "    </tr>\n",
       "    <tr>\n",
       "      <th>mean</th>\n",
       "      <td>1.423128e+12</td>\n",
       "      <td>-0.447952</td>\n",
       "      <td>5.894310</td>\n",
       "      <td>7.932048</td>\n",
       "      <td>-14.838095</td>\n",
       "      <td>-1.009524</td>\n",
       "      <td>-33.709524</td>\n",
       "      <td>40.55650</td>\n",
       "      <td>-36.345857</td>\n",
       "      <td>-2.425524</td>\n",
       "      <td>0.0</td>\n",
       "      <td>0.0</td>\n",
       "      <td>0.0</td>\n",
       "    </tr>\n",
       "    <tr>\n",
       "      <th>std</th>\n",
       "      <td>1.227355e+03</td>\n",
       "      <td>0.167519</td>\n",
       "      <td>0.135728</td>\n",
       "      <td>0.295671</td>\n",
       "      <td>0.342838</td>\n",
       "      <td>0.315308</td>\n",
       "      <td>0.257388</td>\n",
       "      <td>1.74828</td>\n",
       "      <td>1.149993</td>\n",
       "      <td>0.915897</td>\n",
       "      <td>0.0</td>\n",
       "      <td>0.0</td>\n",
       "      <td>0.0</td>\n",
       "    </tr>\n",
       "    <tr>\n",
       "      <th>min</th>\n",
       "      <td>1.423128e+12</td>\n",
       "      <td>-0.944000</td>\n",
       "      <td>5.388000</td>\n",
       "      <td>6.885000</td>\n",
       "      <td>-15.400000</td>\n",
       "      <td>-1.200000</td>\n",
       "      <td>-34.100000</td>\n",
       "      <td>37.30400</td>\n",
       "      <td>-39.150000</td>\n",
       "      <td>-4.660000</td>\n",
       "      <td>0.0</td>\n",
       "      <td>0.0</td>\n",
       "      <td>0.0</td>\n",
       "    </tr>\n",
       "    <tr>\n",
       "      <th>25%</th>\n",
       "      <td>1.423128e+12</td>\n",
       "      <td>-0.536250</td>\n",
       "      <td>5.821500</td>\n",
       "      <td>7.827750</td>\n",
       "      <td>-15.000000</td>\n",
       "      <td>-1.200000</td>\n",
       "      <td>-33.700000</td>\n",
       "      <td>39.51100</td>\n",
       "      <td>-36.892000</td>\n",
       "      <td>-2.990000</td>\n",
       "      <td>0.0</td>\n",
       "      <td>0.0</td>\n",
       "      <td>0.0</td>\n",
       "    </tr>\n",
       "    <tr>\n",
       "      <th>50%</th>\n",
       "      <td>1.423128e+12</td>\n",
       "      <td>-0.422000</td>\n",
       "      <td>5.886000</td>\n",
       "      <td>7.957500</td>\n",
       "      <td>-14.600000</td>\n",
       "      <td>-1.200000</td>\n",
       "      <td>-33.700000</td>\n",
       "      <td>40.24400</td>\n",
       "      <td>-36.398000</td>\n",
       "      <td>-2.310500</td>\n",
       "      <td>0.0</td>\n",
       "      <td>0.0</td>\n",
       "      <td>0.0</td>\n",
       "    </tr>\n",
       "    <tr>\n",
       "      <th>75%</th>\n",
       "      <td>1.423128e+12</td>\n",
       "      <td>-0.331000</td>\n",
       "      <td>5.979750</td>\n",
       "      <td>8.072000</td>\n",
       "      <td>-14.600000</td>\n",
       "      <td>-0.800000</td>\n",
       "      <td>-33.700000</td>\n",
       "      <td>41.55275</td>\n",
       "      <td>-35.635500</td>\n",
       "      <td>-1.861750</td>\n",
       "      <td>0.0</td>\n",
       "      <td>0.0</td>\n",
       "      <td>0.0</td>\n",
       "    </tr>\n",
       "    <tr>\n",
       "      <th>max</th>\n",
       "      <td>1.423128e+12</td>\n",
       "      <td>-0.206000</td>\n",
       "      <td>6.107000</td>\n",
       "      <td>8.752000</td>\n",
       "      <td>-14.600000</td>\n",
       "      <td>-0.200000</td>\n",
       "      <td>-33.300000</td>\n",
       "      <td>45.35000</td>\n",
       "      <td>-32.730000</td>\n",
       "      <td>-0.023000</td>\n",
       "      <td>0.0</td>\n",
       "      <td>0.0</td>\n",
       "      <td>0.0</td>\n",
       "    </tr>\n",
       "  </tbody>\n",
       "</table>\n",
       "</div>"
      ],
      "text/plain": [
       "          timestamp  AccelerationX  AccelerationY  AccelerationZ  \\\n",
       "count  4.200000e+01      42.000000      42.000000      42.000000   \n",
       "mean   1.423128e+12      -0.447952       5.894310       7.932048   \n",
       "std    1.227355e+03       0.167519       0.135728       0.295671   \n",
       "min    1.423128e+12      -0.944000       5.388000       6.885000   \n",
       "25%    1.423128e+12      -0.536250       5.821500       7.827750   \n",
       "50%    1.423128e+12      -0.422000       5.886000       7.957500   \n",
       "75%    1.423128e+12      -0.331000       5.979750       8.072000   \n",
       "max    1.423128e+12      -0.206000       6.107000       8.752000   \n",
       "\n",
       "       MagneticFieldX  MagneticFieldY  MagneticFieldZ  Z-AxisAgle(Azimuth)  \\\n",
       "count       42.000000       42.000000       42.000000             42.00000   \n",
       "mean       -14.838095       -1.009524      -33.709524             40.55650   \n",
       "std          0.342838        0.315308        0.257388              1.74828   \n",
       "min        -15.400000       -1.200000      -34.100000             37.30400   \n",
       "25%        -15.000000       -1.200000      -33.700000             39.51100   \n",
       "50%        -14.600000       -1.200000      -33.700000             40.24400   \n",
       "75%        -14.600000       -0.800000      -33.700000             41.55275   \n",
       "max        -14.600000       -0.200000      -33.300000             45.35000   \n",
       "\n",
       "       X-AxisAngle(Pitch)  Y-AxisAngle(Roll)  GyroX  GyroY  GyroZ  \n",
       "count           42.000000          42.000000   42.0   42.0   42.0  \n",
       "mean           -36.345857          -2.425524    0.0    0.0    0.0  \n",
       "std              1.149993           0.915897    0.0    0.0    0.0  \n",
       "min            -39.150000          -4.660000    0.0    0.0    0.0  \n",
       "25%            -36.892000          -2.990000    0.0    0.0    0.0  \n",
       "50%            -36.398000          -2.310500    0.0    0.0    0.0  \n",
       "75%            -35.635500          -1.861750    0.0    0.0    0.0  \n",
       "max            -32.730000          -0.023000    0.0    0.0    0.0  "
      ]
     },
     "execution_count": 47,
     "metadata": {},
     "output_type": "execute_result"
    }
   ],
   "source": [
    "sql_query = f'SELECT * FROM smartphone_sensor WHERE timestamp > {t1} AND timestamp <= {t2};'\n",
    "sensor_df2 = pd.read_sql_query(sql_query, conn)\n",
    "sensor_df2.describe()"
   ]
  },
  {
   "cell_type": "code",
   "execution_count": 38,
   "id": "57d4e365",
   "metadata": {},
   "outputs": [
    {
     "data": {
      "text/plain": [
       "Index(['timestamp', 'AccelerationX', 'AccelerationY', 'AccelerationZ',\n",
       "       'MagneticFieldX', 'MagneticFieldY', 'MagneticFieldZ',\n",
       "       'Z-AxisAgle(Azimuth)', 'X-AxisAngle(Pitch)', 'Y-AxisAngle(Roll)',\n",
       "       'GyroX', 'GyroY', 'GyroZ'],\n",
       "      dtype='object')"
      ]
     },
     "execution_count": 38,
     "metadata": {},
     "output_type": "execute_result"
    }
   ],
   "source": [
    "sensor_df2.columns"
   ]
  },
  {
   "cell_type": "code",
   "execution_count": 39,
   "id": "ab84c0e1",
   "metadata": {},
   "outputs": [
    {
     "data": {
      "text/plain": [
       "array([ 95.298164,  95.298164,  95.298164,  86.35084 ,  95.298164,\n",
       "        95.298164,  95.298164,  88.33835 ,  88.33835 , 101.53775 ,\n",
       "        97.28567 ,  95.298164,  88.33835 ,  88.33835 ,  97.28567 ,\n",
       "        88.33835 ,  88.33835 ,  92.59043 ,  88.33835 ,  88.33835 ,\n",
       "        95.298164,  87.6564  ,  86.35084 ,  87.6564  ,  86.35084 ,\n",
       "        86.35084 ,  86.35084 ,  86.35084 ,  86.35084 ,  86.35084 ,\n",
       "        86.35084 ,  86.35084 ,  86.35084 ,  86.35084 ,  86.35084 ,\n",
       "        86.35084 ,  86.35084 ,  86.35084 ,  86.35084 ,  86.35084 ,\n",
       "        86.35084 ,  95.298164], dtype=float32)"
      ]
     },
     "execution_count": 39,
     "metadata": {},
     "output_type": "execute_result"
    }
   ],
   "source": [
    "def handle_unique(df, target=\"Z-AxisAgle(Azimuth)\", categorical=[\"timestamp\"]):\n",
    "    yval = df[target]\n",
    "    df2 = df.drop([target]+categorical, axis=1)\n",
    "    \n",
    "    return df2, yval\n",
    "\n",
    "xtest, yval = handle_unique(sensor_df2)\n",
    "model2.predict(xtest)    "
   ]
  },
  {
   "cell_type": "code",
   "execution_count": 40,
   "id": "d36325dc",
   "metadata": {},
   "outputs": [
    {
     "data": {
      "text/plain": [
       "(42, 11)"
      ]
     },
     "execution_count": 40,
     "metadata": {},
     "output_type": "execute_result"
    }
   ],
   "source": [
    "xtest.shape"
   ]
  },
  {
   "cell_type": "code",
   "execution_count": 41,
   "id": "8d2447f8",
   "metadata": {},
   "outputs": [
    {
     "data": {
      "text/plain": [
       "(3671, 11)"
      ]
     },
     "execution_count": 41,
     "metadata": {},
     "output_type": "execute_result"
    }
   ],
   "source": [
    "X_test.shape"
   ]
  },
  {
   "cell_type": "code",
   "execution_count": 42,
   "id": "ac535840",
   "metadata": {},
   "outputs": [
    {
     "data": {
      "text/plain": [
       "646"
      ]
     },
     "execution_count": 42,
     "metadata": {},
     "output_type": "execute_result"
    }
   ],
   "source": [
    "len(label_df)"
   ]
  },
  {
   "cell_type": "code",
   "execution_count": 43,
   "id": "f9ba71b7",
   "metadata": {},
   "outputs": [
    {
     "data": {
      "text/plain": [
       "'1.4.2'"
      ]
     },
     "execution_count": 43,
     "metadata": {},
     "output_type": "execute_result"
    }
   ],
   "source": [
    "xgb.__version__"
   ]
  },
  {
   "cell_type": "code",
   "execution_count": null,
   "id": "0a8245f7",
   "metadata": {},
   "outputs": [],
   "source": []
  }
 ],
 "metadata": {
  "kernelspec": {
   "display_name": "Python 3 (ipykernel)",
   "language": "python",
   "name": "python3"
  },
  "language_info": {
   "codemirror_mode": {
    "name": "ipython",
    "version": 3
   },
   "file_extension": ".py",
   "mimetype": "text/x-python",
   "name": "python",
   "nbconvert_exporter": "python",
   "pygments_lexer": "ipython3",
   "version": "3.8.10"
  }
 },
 "nbformat": 4,
 "nbformat_minor": 5
}
